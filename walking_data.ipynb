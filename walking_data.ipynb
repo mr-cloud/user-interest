{
 "cells": [
  {
   "cell_type": "code",
   "execution_count": 7,
   "metadata": {
    "collapsed": true
   },
   "outputs": [],
   "source": [
    "from preprocessing_photos import *"
   ]
  },
  {
   "cell_type": "code",
   "execution_count": 3,
   "metadata": {},
   "outputs": [],
   "source": [
    "import pandas as pd"
   ]
  },
  {
   "cell_type": "code",
   "execution_count": 10,
   "metadata": {},
   "outputs": [
    {
     "name": "stdout",
     "output_type": "stream",
     "text": [
      "37821\n"
     ]
    },
    {
     "name": "stdout",
     "output_type": "stream",
     "text": [
      "#pos=10547052, #tot=52134536, ratio=20.230451461196473%\n"
     ]
    }
   ],
   "source": [
    "path = RAW_DATA_PATH\n",
    "DATASET_TRAIN_INTERACTION = 'train_interaction.txt'\n",
    "columns = ['user_id', 'photo_id', 'click', 'like', 'follow', 'time', 'playing_time', 'duration_time']\n",
    "train_interaction = pd.read_table(os.path.join(path, DATASET_TRAIN_INTERACTION), header=None)\n",
    "train_interaction.columns = columns\n",
    "users = set(train_interaction['user_id'])\n",
    "print(len(users))\n",
    "labels = np.any(train_interaction[['click', 'like', 'follow']], axis=1)\n",
    "print('#pos={}, #tot={}, ratio={}%'.format(np.sum(labels), len(labels), np.sum(labels)/len(labels) * 100))"
   ]
  },
  {
   "cell_type": "code",
   "execution_count": 24,
   "metadata": {},
   "outputs": [],
   "source": [
    "from matplotlib import pyplot as plt\n",
    "unique, counts = np.unique(train_interaction['user_id'], return_counts=True)\n",
    "plt.hist(counts, bins=len(unique), range=[0, 5000])\n",
    "plt.show()"
   ]
  },
  {
   "cell_type": "code",
   "execution_count": 25,
   "metadata": {},
   "outputs": [],
   "source": [
    "plt.hist(counts, bins=len(unique), range=[0, 5000])\n",
    "plt.show()"
   ]
  },
  {
   "cell_type": "code",
   "execution_count": null,
   "metadata": {},
   "outputs": [],
   "source": []
  }
 ],
 "metadata": {
  "kernelspec": {
   "display_name": "Python 2",
   "language": "python",
   "name": "python2"
  },
  "language_info": {
   "codemirror_mode": {
    "name": "ipython",
    "version": 2
   },
   "file_extension": ".py",
   "mimetype": "text/x-python",
   "name": "python",
   "nbconvert_exporter": "python",
   "pygments_lexer": "ipython2",
   "version": "2.7.6"
  }
 },
 "nbformat": 4,
 "nbformat_minor": 0
}
