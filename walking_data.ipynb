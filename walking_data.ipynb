{
 "cells": [
  {
   "cell_type": "code",
   "execution_count": 7,
   "metadata": {
    "collapsed": true
   },
   "outputs": [],
   "source": [
    "from preprocessing_photos import *"
   ]
  },
  {
   "cell_type": "code",
   "execution_count": 3,
   "metadata": {},
   "outputs": [],
   "source": [
    "import pandas as pd"
   ]
  },
  {
   "cell_type": "code",
   "execution_count": 10,
   "metadata": {},
   "outputs": [
    {
     "name": "stdout",
     "output_type": "stream",
     "text": [
      "37821\n"
     ]
    },
    {
     "name": "stdout",
     "output_type": "stream",
     "text": [
      "#pos=10547052, #tot=52134536, ratio=20.230451461196473%\n"
     ]
    }
   ],
   "source": [
    "path = RAW_DATA_PATH\n",
    "DATASET_TRAIN_INTERACTION = 'train_interaction.txt'\n",
    "columns = ['user_id', 'photo_id', 'click', 'like', 'follow', 'time', 'playing_time', 'duration_time']\n",
    "train_interaction = pd.read_table(os.path.join(path, DATASET_TRAIN_INTERACTION), header=None)\n",
    "train_interaction.columns = columns\n",
    "users = set(train_interaction['user_id'])\n",
    "print(len(users))\n",
    "labels = np.any(train_interaction[['click', 'like', 'follow']], axis=1)\n",
    "print('#pos={}, #tot={}, ratio={}%'.format(np.sum(labels), len(labels), np.sum(labels)/len(labels) * 100))"
   ]
  },
  {
   "cell_type": "code",
   "execution_count": 24,
   "metadata": {},
   "outputs": [],
   "source": [
    "from matplotlib import pyplot as plt\n",
    "unique, counts = np.unique(train_interaction['user_id'], return_counts=True)\n",
    "plt.hist(counts, bins=len(unique), range=[0, 5000])\n",
    "plt.show()"
   ]
  },
  {
   "cell_type": "code",
   "execution_count": 25,
   "metadata": {},
   "outputs": [],
   "source": [
    "plt.hist(counts, bins=len(unique), range=[0, 5000])\n",
    "plt.show()"
   ]
  },
  {
   "cell_type": "code",
   "execution_count": 26,
   "metadata": {},
   "outputs": [],
   "source": [
    "import numpy as np"
   ]
  },
  {
   "cell_type": "code",
   "execution_count": 29,
   "metadata": {},
   "outputs": [
    {
     "name": "stdout",
     "output_type": "stream",
     "text": [
      "[3 8 7 3 2 7 5 7 3 1 9 7 7 7 2 0 7 6 8 8]\n[15  9 14  4  8  0  3  6 17  7 11 12 13  2 16  5 18  1 19 10]\n[18  1 19 10]\n[8 8 8 9]\n"
     ]
    }
   ],
   "source": [
    "r_arr = np.random.randint(0, 10, 20)\n",
    "print(r_arr)\n",
    "arg_sort = np.argsort(r_arr)\n",
    "print(arg_sort)\n",
    "top20 = arg_sort[int(len(r_arr) * 0.8):]\n",
    "print(top20)\n",
    "print(r_arr[top20])\n"
   ]
  },
  {
   "cell_type": "code",
   "execution_count": 40,
   "metadata": {},
   "outputs": [],
   "source": [
    "with open('datahouse/test.log', 'a') as log:\n",
    "    log.writelines('say something...')\n",
    "    "
   ]
  },
  {
   "cell_type": "code",
   "execution_count": 44,
   "metadata": {},
   "outputs": [
    {
     "name": "stdout",
     "output_type": "stream",
     "text": [
      "[[0 1 1 4 3 5 7 4 6 8]\n [8 9 2 8 7 5 6 9 3 0]\n [8 0 4 7 4 4 9 4 2 0]\n [3 5 8 0 2 7 0 8 1 4]\n [0 9 2 4 2 8 8 9 8 1]\n [2 4 0 5 0 7 4 0 1 7]\n [4 2 0 0 6 5 9 8 8 6]\n [3 1 8 9 1 9 2 7 0 4]\n [7 8 9 7 3 1 0 5 1 8]\n [1 5 3 2 6 2 1 5 4 3]]\n[8 4]\n"
     ]
    }
   ],
   "source": [
    "d2_arr = np.random.randint(0, 10, size=(10, 10))\n",
    "print(d2_arr)\n",
    "print(d2_arr[[[1,2], [3,4]]])"
   ]
  },
  {
   "cell_type": "code",
   "execution_count": 47,
   "metadata": {},
   "outputs": [
    {
     "name": "stdout",
     "output_type": "stream",
     "text": [
      "CLEAN_DATA_PATH\t COMMON_WORDS_COUNTER\t DATASET_TEST_FACE\t DATASET_TEST_INTERACTION\t DATASET_TEST_TEXT\t DATASET_TRAIN_FACE\t DATASET_TRAIN_INTERACTION\t DATASET_TRAIN_TEXT\t DATA_HOUSE_PATH\t \nEMBEDDINGS\t NUM_FACE_FEATURE\t PHOTO_TOPIC\t RAW_DATA_PATH\t TEST_PHOTO_EXAMPLE_WITH_TOPIC\t TRAIN_PHOTO_EXAMPLE_WITH_TOPIC\t arg_sort\t arr\t build_photo_examples\t \ncolumns\t common_word_idx_map\t common_words_counter\t counts\t d2_arr\t embeddings\t json\t labels\t log\t \nlogger\t main\t np\t os\t path\t pd\t photo_topic\t photo_topic_map\t plt\t \nr_arr\t store\t top20\t train_interaction\t unique\t users\t \n"
     ]
    }
   ],
   "source": [
    "who"
   ]
  },
  {
   "cell_type": "code",
   "execution_count": 52,
   "metadata": {},
   "outputs": [
    {
     "name": "stdout",
     "output_type": "stream",
     "text": [
      "[3 8 7 3 2 7 5 7 3 1 9 7 7 7 2 0 7 6 8 8]\n"
     ]
    },
    {
     "data": {
      "text/plain": [
       "array([3, 8, 7])"
      ]
     },
     "execution_count": 52,
     "metadata": {},
     "output_type": "execute_result"
    }
   ],
   "source": [
    "print(r_arr)\n",
    "r_arr[[3,1,2]]"
   ]
  },
  {
   "cell_type": "code",
   "execution_count": 54,
   "metadata": {},
   "outputs": [
    {
     "ename": "TypeError",
     "evalue": "list indices must be integers or slices, not list",
     "traceback": [
      "\u001b[0;31m---------------------------------------------------------------------------\u001b[0m",
      "\u001b[0;31mTypeError\u001b[0m                                 Traceback (most recent call last)",
      "\u001b[0;32m<ipython-input-54-27bb3d5946e4>\u001b[0m in \u001b[0;36m<module>\u001b[0;34m()\u001b[0m\n\u001b[0;32m----> 1\u001b[0;31m \u001b[0;34m[\u001b[0m\u001b[0;36m3\u001b[0m\u001b[0;34m,\u001b[0m\u001b[0;36m8\u001b[0m\u001b[0;34m,\u001b[0m\u001b[0;36m7\u001b[0m\u001b[0;34m]\u001b[0m\u001b[0;34m[\u001b[0m\u001b[0;34m[\u001b[0m\u001b[0;36m1\u001b[0m\u001b[0;34m,\u001b[0m\u001b[0;36m2\u001b[0m\u001b[0;34m]\u001b[0m\u001b[0;34m]\u001b[0m\u001b[0;34m\u001b[0m\u001b[0m\n\u001b[0m",
      "\u001b[0;31mTypeError\u001b[0m: list indices must be integers or slices, not list"
     ],
     "output_type": "error"
    }
   ],
   "source": [
    "[3,8,7][[1,2]]"
   ]
  },
  {
   "cell_type": "code",
   "execution_count": 2,
   "metadata": {},
   "outputs": [],
   "source": [
    "from matplotlib import pyplot as plt\n",
    "import numpy as np"
   ]
  },
  {
   "cell_type": "code",
   "execution_count": 4,
   "metadata": {},
   "outputs": [],
   "source": [
    "x = np.arange(0, 1, 0.01)\n",
    "rs = [1, 3, 9]\n",
    "c = ['r', 'g', 'b']\n",
    "y = np.ndarray(shape=(len(rs), len(x)))\n",
    "for idx, r in enumerate(rs):\n",
    "    y[idx] = 1 - (1 - x**r)**r\n",
    "    plt.plot(x, y[idx], c[idx])\n",
    "plt.show()"
   ]
  },
  {
   "cell_type": "code",
   "execution_count": 19,
   "metadata": {},
   "outputs": [],
   "source": [
    "import pandas as pd\n",
    "\n",
    "epslon = 1.0e-6\n",
    "\n",
    "\n",
    "def and_or_scaling(x, r=3):\n",
    "    return 1 - (1 - x**r)**r\n",
    "\n",
    "\n",
    "def and_or_metric(prediction: pd.DataFrame):\n",
    "    if ('user_id' not in prediction.columns) \\\n",
    "            or ('click_probability' not in prediction.columns):\n",
    "        print('input is invalid!')\n",
    "        return\n",
    "    shift_max = prediction.groupby('user_id')['click_probability'].max().to_dict()\n",
    "    shift_min = prediction.groupby('user_id')['click_probability'].min().to_dict()\n",
    "    prediction['click_probability'] = prediction.apply(\n",
    "        lambda x: (x[2] - shift_min.get(x[0], 0))\n",
    "                    / (shift_max.get(x[0], 1) - shift_min.get(x[0], 0) if shift_max.get(x[0], 1) - shift_min.get(x[0], 0) != 0 else x[0]), axis=1)\n",
    "    prediction['click_probability'] = and_or_scaling(prediction['click_probability'])\n",
    "    return prediction\n",
    "\n"
   ]
  },
  {
   "cell_type": "code",
   "execution_count": 20,
   "metadata": {},
   "outputs": [
    {
     "data": {
      "text/html": [
       "<div>\n",
       "<style>\n",
       "    .dataframe thead tr:only-child th {\n",
       "        text-align: right;\n",
       "    }\n",
       "\n",
       "    .dataframe thead th {\n",
       "        text-align: left;\n",
       "    }\n",
       "\n",
       "    .dataframe tbody tr th {\n",
       "        vertical-align: top;\n",
       "    }\n",
       "</style>\n",
       "<table border=\"1\" class=\"dataframe\">\n",
       "  <thead>\n",
       "    <tr style=\"text-align: right;\">\n",
       "      <th></th>\n",
       "      <th>user_id</th>\n",
       "      <th>photo_id</th>\n",
       "      <th>click_probability</th>\n",
       "    </tr>\n",
       "  </thead>\n",
       "  <tbody>\n",
       "    <tr>\n",
       "      <th>0</th>\n",
       "      <td>9</td>\n",
       "      <td>0</td>\n",
       "      <td>6</td>\n",
       "    </tr>\n",
       "    <tr>\n",
       "      <th>1</th>\n",
       "      <td>1</td>\n",
       "      <td>2</td>\n",
       "      <td>0</td>\n",
       "    </tr>\n",
       "    <tr>\n",
       "      <th>2</th>\n",
       "      <td>8</td>\n",
       "      <td>7</td>\n",
       "      <td>9</td>\n",
       "    </tr>\n",
       "  </tbody>\n",
       "</table>\n",
       "</div>"
      ],
      "text/plain": [
       "<div>\n",
       "<style>\n",
       "    .dataframe thead tr:only-child th {\n",
       "        text-align: right;\n",
       "    }\n",
       "\n",
       "    .dataframe thead th {\n",
       "        text-align: left;\n",
       "    }\n",
       "\n",
       "    .dataframe tbody tr th {\n",
       "        vertical-align: top;\n",
       "    }\n",
       "</style>\n",
       "<table border=\"1\" class=\"dataframe\">\n",
       "  <thead>\n",
       "    <tr style=\"text-align: right;\">\n",
       "      <th></th>\n",
       "      <th>user_id</th>\n",
       "      <th>photo_id</th>\n",
       "      <th>click_probability</th>\n",
       "    </tr>\n",
       "  </thead>\n",
       "  <tbody>\n",
       "    <tr>\n",
       "      <th>0</th>\n",
       "      <td>9</td>\n",
       "      <td>0</td>\n",
       "      <td>6</td>\n",
       "    </tr>\n",
       "    <tr>\n",
       "      <th>1</th>\n",
       "      <td>1</td>\n",
       "      <td>2</td>\n",
       "      <td>0</td>\n",
       "    </tr>\n",
       "    <tr>\n",
       "      <th>2</th>\n",
       "      <td>8</td>\n",
       "      <td>7</td>\n",
       "      <td>9</td>\n",
       "    </tr>\n",
       "  </tbody>\n",
       "</table>\n",
       "</div>"
      ]
     },
     "execution_count": 20,
     "metadata": {},
     "output_type": "execute_result"
    }
   ],
   "source": [
    "preds = pd.DataFrame(np.random.randint(0, 10, size=(3, 3)), columns=('user_id', 'photo_id', 'click_probability'))\n",
    "preds"
   ]
  },
  {
   "cell_type": "code",
   "execution_count": 21,
   "metadata": {},
   "outputs": [
    {
     "name": "stdout",
     "output_type": "stream",
     "text": [
      "   user_id  photo_id  click_probability\n0        9         0                0.0\n1        1         2                0.0\n2        8         7                0.0\n"
     ]
    }
   ],
   "source": [
    "print(and_or_metric(preds))"
   ]
  },
  {
   "cell_type": "code",
   "execution_count": null,
   "metadata": {},
   "outputs": [],
   "source": []
  }
 ],
 "metadata": {
  "kernelspec": {
   "display_name": "Python 2",
   "language": "python",
   "name": "python2"
  },
  "language_info": {
   "codemirror_mode": {
    "name": "ipython",
    "version": 2
   },
   "file_extension": ".py",
   "mimetype": "text/x-python",
   "name": "python",
   "nbconvert_exporter": "python",
   "pygments_lexer": "ipython2",
   "version": "2.7.6"
  }
 },
 "nbformat": 4,
 "nbformat_minor": 0
}
