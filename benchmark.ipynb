{
 "cells": [
  {
   "cell_type": "code",
   "execution_count": 1,
   "metadata": {
    "collapsed": false
   },
   "outputs": [
    {
     "name": "stdout",
     "output_type": "stream",
     "text": [
      "SpearmanrResult(correlation=0.28876468470563432, pvalue=0.0)\n"
     ]
    },
    {
     "name": "stderr",
     "output_type": "stream",
     "text": [
      "C:\\Users\\Shinelon\\Anaconda\\Lib\\site-packages\\sklearn\\model_selection\\_split.py:597: Warning: The least populated class in y has only 1 members, which is too few. The minimum number of members in any class cannot be less than n_splits=5.\n",
      "  % (min_groups, self.n_splits)), Warning)\n"
     ]
    },
    {
     "name": "stdout",
     "output_type": "stream",
     "text": [
      "SpearmanrResult(correlation=0.25475251748841587, pvalue=0.0)\n",
      "('num_features', ['time', 'duration_time', 'user_click_oov', 'user_playing_time_oov'])\n",
      "SpearmanrResult(correlation=-0.15947451909048571, pvalue=0.0)\n",
      "score:0.712444166982\n"
     ]
    }
   ],
   "source": [
    "\n",
    "# coding: utf-8\n",
    "\n",
    "# In[1]:\n",
    "\n",
    "import numpy as np\n",
    "import scipy as sp\n",
    "from scipy import sparse as ssp\n",
    "from scipy.stats import spearmanr\n",
    "import pandas as pd\n",
    "from sklearn.linear_model import LogisticRegression\n",
    "from sklearn.model_selection import StratifiedKFold\n",
    "from sklearn.metrics import roc_auc_score\n",
    "from sklearn.preprocessing import OneHotEncoder,MinMaxScaler\n",
    "\n",
    "from config import path\n",
    "\n",
    "\n",
    "# In[2]:\n",
    "\n",
    "columns = ['user_id','photo_id','click','like','follow','time','playing_time','duration_time']\n",
    "train_interaction = pd.read_table(path+'train_interaction.txt',header=None)\n",
    "train_interaction.columns = columns\n",
    "test_columns = ['user_id','photo_id','time','duration_time']\n",
    "\n",
    "test_interaction = pd.read_table(path+'test_interaction.txt',header=None)\n",
    "test_interaction.columns = test_columns\n",
    "\n",
    "\n",
    "# In[3]:\n",
    "\n",
    "cat_features = ['user_id']\n",
    "num_features = ['time','duration_time']\n",
    "\n",
    "\n",
    "# In[4]:\n",
    "\n",
    "def oof_features(train_interaction,test_interaction,agg_col,target_col='click',use_mean=True,use_min=False,use_max=False,use_std=False,use_median=False,n_split=5,seed=1,split_col='user_id'):\n",
    "    skf =StratifiedKFold(n_splits=n_split, shuffle=True, random_state=seed).split(train_interaction[split_col],train_interaction[target_col])\n",
    "    train_oof = np.zeros(train_interaction.shape[0])\n",
    "    \n",
    "    test_oof = np.zeros(test_interaction.shape[0])    \n",
    "\n",
    "        \n",
    "    for ind_tr, ind_te in skf:\n",
    "        data_tr = train_interaction.iloc[ind_tr]\n",
    "        data_te = train_interaction.iloc[ind_te]\n",
    "        d = data_tr.groupby(agg_col)[target_col].mean().to_dict()\n",
    "        train_oof[ind_te] = data_te[agg_col].apply(lambda x:d.get(x,0))\n",
    "    \n",
    "    d = train_interaction.groupby(agg_col)[target_col].mean().to_dict()\n",
    "    test_oof = test_interaction[agg_col].apply(lambda x:d.get(x,0))\n",
    "    \n",
    "    return train_oof,test_oof\n",
    "\n",
    "\n",
    "train_user_click,test_user_click = oof_features(train_interaction,test_interaction,agg_col = 'user_id',target_col='click',split_col='user_id')\n",
    "\n",
    "\n",
    "# In[5]:\n",
    "\n",
    "corrscore = spearmanr(train_interaction['click'],train_user_click)\n",
    "print(corrscore)\n",
    "\n",
    "train_interaction['user_click_oof'] = train_user_click\n",
    "test_interaction['user_click_oof'] = test_user_click\n",
    "\n",
    "num_features+=['user_click_oof']\n",
    "\n",
    "\n",
    "# In[6]:\n",
    "\n",
    "# train_user_follow,test_user_follow = oov_features(train_interaction,None,agg_col = 'user_id',target_col='follow',split_col='user_id')\n",
    "# corrscore = spearmanr(train_interaction['click'],train_user_follow)\n",
    "# print(corrscore)\n",
    "# train_interaction['user_follow_oov'] = train_user_follow\n",
    "# num_features+=['user_follow_oov']\n",
    "\n",
    "\n",
    "\n",
    "# In[7]:\n",
    "\n",
    "train_user_playing_time,test_user_playing_time = oof_features(train_interaction,test_interaction,agg_col = 'user_id',target_col='playing_time',split_col='user_id')\n",
    "corrscore = spearmanr(train_interaction['click'],train_user_playing_time)\n",
    "print(corrscore)\n",
    "train_interaction['user_playing_time_oof'] = train_user_playing_time\n",
    "test_interaction['user_playing_time_oof'] = test_user_playing_time\n",
    "num_features+=['user_playing_time_oof']\n",
    "\n",
    "\n",
    "# In[8]:\n",
    "\n",
    "# train_user_duration_time,test_user_duration_time = oov_features(train_interaction,None,agg_col = 'user_id',target_col='duration_time',split_col='user_id')\n",
    "# corrscore = spearmanr(train_interaction['click'],train_user_duration_time)\n",
    "# print(corrscore)\n",
    "# train_interaction['user_duration_time_oov'] = train_user_duration_time\n",
    "# num_features+=['user_duration_time_oov']\n",
    "\n",
    "\n",
    "# In[4]:\n",
    "\n",
    "print('num_features',num_features)\n",
    "\n",
    "\n",
    "# In[10]:\n",
    "\n",
    "cat_count_features = []\n",
    "for c in cat_features:\n",
    "    d = train_interaction[c].value_counts().to_dict()\n",
    "    train_interaction['%s_count'%c] = train_interaction[c].apply(lambda x:d.get(x,0))\n",
    "    test_interaction['%s_count'%c] = test_interaction[c].apply(lambda x:d.get(x,0))\n",
    "    cat_count_features.append('%s_count'%c)\n",
    "\n",
    "\n",
    "corrscore = spearmanr(train_interaction['click'],train_interaction['%s_count'%c])\n",
    "print(corrscore)\n",
    "num_features+=cat_count_features\n",
    "\n",
    "\n",
    "# In[6]:\n",
    "\n",
    "\n",
    "\n",
    "scaler = MinMaxScaler()\n",
    "enc = OneHotEncoder()\n",
    "X_cat = enc.fit_transform(train_interaction[cat_features])\n",
    "X_num = scaler.fit_transform(train_interaction[num_features])\n",
    "X = ssp.hstack([X_cat,X_num]).tocsr()\n",
    "\n",
    "# In[ ]:\n",
    "\n",
    "X_t_cat = enc.transform(test_interaction[cat_features])\n",
    "X_t_num = scaler.transform(test_interaction[num_features])\n",
    "\n",
    "\n",
    "# In[7]:\n",
    "\n",
    "\n",
    "X_t = ssp.hstack([X_t_cat,X_t_num]).tocsr()\n",
    "\n",
    "\n",
    "# In[9]:\n",
    "\n",
    "y = train_interaction['click'].values\n",
    "\n",
    "\n",
    "# In[10]:\n",
    "\n",
    "del X_cat\n",
    "del X_num\n",
    "import gc\n",
    "gc.collect()\n",
    "\n",
    "\n",
    "# In[11]:\n",
    "\n",
    "skf =StratifiedKFold(n_splits=5, shuffle=True, random_state=1).split(train_interaction['user_id'],y)\n",
    "for ind_tr, ind_te in skf:\n",
    "    X_train = X[ind_tr]\n",
    "    X_test = X[ind_te]\n",
    "    y_train = y[ind_tr]\n",
    "    y_test = y[ind_te]\n",
    "    break\n",
    "del X\n",
    "gc.collect()\n",
    "\n",
    "\n",
    "# In[12]:\n",
    "\n",
    "clf = LogisticRegression(C=10,random_state=1)\n",
    "clf.fit(X_train,y_train)\n",
    "\n",
    "\n",
    "# In[13]:\n",
    "\n",
    "\n",
    "y_pred = clf.predict_proba(X_test)[:,1]\n",
    "score = roc_auc_score(y_test,y_pred)\n",
    "print('score:%s'%score)\n",
    "\n",
    "\n",
    "\n",
    "y_sub = clf.predict_proba(X_t)[:,1]\n",
    "\n",
    "submission = pd.DataFrame()\n",
    "submission['user_id'] = test_interaction['user_id']\n",
    "submission['photo_id'] = test_interaction['photo_id']\n",
    "submission['click_probability'] = y_sub\n",
    "submission['click_probability'].apply(lambda x:float('%.6f' % x))\n",
    "submission.to_csv('submission_lr.txt',sep='\\t',index=False,header=False)\n"
   ]
  },
  {
   "cell_type": "code",
   "execution_count": 4,
   "metadata": {
    "collapsed": true
   },
   "outputs": [],
   "source": [
    "from sklearn.datasets import dump_svmlight_file\n",
    "dump_svmlight_file(X_train,y_train,path+\"X_train.svm\")\n",
    "dump_svmlight_file(X_test,y_test,path+\"X_test.svm\")\n",
    "dump_svmlight_file(X_t,np.zeros(X_t.shape[0]),path+\"X_t.svm\")\n"
   ]
  },
  {
   "cell_type": "code",
   "execution_count": 5,
   "metadata": {
    "collapsed": false
   },
   "outputs": [
    {
     "name": "stdout",
     "output_type": "stream",
     "text": [
      "score:0.455184567505\n"
     ]
    }
   ],
   "source": [
    "from sklearn.metrics import log_loss\n",
    "score = log_loss(y_test,y_pred)\n",
    "print('score:%s'%score)"
   ]
  },
  {
   "cell_type": "code",
   "execution_count": 7,
   "metadata": {
    "collapsed": true
   },
   "outputs": [],
   "source": [
    "submission.to_csv('submission_lr.txt',sep='\\t',index=False,header=False)"
   ]
  },
  {
   "cell_type": "code",
   "execution_count": null,
   "metadata": {
    "collapsed": true
   },
   "outputs": [],
   "source": []
  }
 ],
 "metadata": {
  "kernelspec": {
   "display_name": "Python 2",
   "language": "python",
   "name": "python2"
  },
  "language_info": {
   "codemirror_mode": {
    "name": "ipython",
    "version": 2
   },
   "file_extension": ".py",
   "mimetype": "text/x-python",
   "name": "python",
   "nbconvert_exporter": "python",
   "pygments_lexer": "ipython2",
   "version": "2.7.11"
  }
 },
 "nbformat": 4,
 "nbformat_minor": 0
}
